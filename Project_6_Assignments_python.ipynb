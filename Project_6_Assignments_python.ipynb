{
  "nbformat": 4,
  "nbformat_minor": 0,
  "metadata": {
    "colab": {
      "provenance": [],
      "authorship_tag": "ABX9TyMgH5PpP3zPToc3z9lMVcKO",
      "include_colab_link": true
    },
    "kernelspec": {
      "name": "python3",
      "display_name": "Python 3"
    },
    "language_info": {
      "name": "python"
    }
  },
  "cells": [
    {
      "cell_type": "markdown",
      "metadata": {
        "id": "view-in-github",
        "colab_type": "text"
      },
      "source": [
        "<a href=\"https://colab.research.google.com/github/syedsaudsaad/06_Build_Compose_and_Decorate_A_Complete_Traditional_OOP_Practice_Series/blob/main/Project_6_Assignments_python.ipynb\" target=\"_parent\"><img src=\"https://colab.research.google.com/assets/colab-badge.svg\" alt=\"Open In Colab\"/></a>"
      ]
    },
    {
      "cell_type": "code",
      "source": [
        "#1. Using self\n",
        "class Student:\n",
        "    def __init__(self, name, marks):\n",
        "        self.name = name\n",
        "        self.marks = marks\n",
        "\n",
        "    def display(self):\n",
        "        print(f\"Name: {self.name}, Marks: {self.marks}\")\n",
        "\n",
        "# Test\n",
        "s1 = Student(\"Saud\", 90)\n",
        "s1.display()\n"
      ],
      "metadata": {
        "colab": {
          "base_uri": "https://localhost:8080/"
        },
        "id": "OJQouALNccts",
        "outputId": "95c7bf37-c7fa-4434-83fe-38d9e424374a"
      },
      "execution_count": 17,
      "outputs": [
        {
          "output_type": "stream",
          "name": "stdout",
          "text": [
            "Name: Saud, Marks: 90\n"
          ]
        }
      ]
    },
    {
      "cell_type": "code",
      "source": [
        "#2. Using cls\n",
        "class Counter:\n",
        "    count = 0\n",
        "\n",
        "    def __init__(self):\n",
        "        Counter.count += 1\n",
        "\n",
        "    @classmethod\n",
        "    def show_count(cls):\n",
        "        print(f\"Total objects created: {cls.count}\")\n",
        "\n",
        "# Test\n",
        "c1 = Counter()\n",
        "c2 = Counter()\n",
        "Counter.show_count()\n"
      ],
      "metadata": {
        "colab": {
          "base_uri": "https://localhost:8080/"
        },
        "id": "qA6E4O_2dZM1",
        "outputId": "b1d1fb4d-b4cd-4ea6-f73b-9df8eb47b3dc"
      },
      "execution_count": 18,
      "outputs": [
        {
          "output_type": "stream",
          "name": "stdout",
          "text": [
            "Total objects created: 2\n"
          ]
        }
      ]
    },
    {
      "cell_type": "code",
      "source": [
        "#3. Public Variables and Methods\n",
        "class Car:\n",
        "    def __init__(self, brand):\n",
        "        self.brand = brand\n",
        "\n",
        "    def start(self):\n",
        "        print(f\"{self.brand} car started!\")\n",
        "\n",
        "# Test\n",
        "car1 = Car(\"Toyota\")\n",
        "print(car1.brand)\n",
        "car1.start()\n"
      ],
      "metadata": {
        "colab": {
          "base_uri": "https://localhost:8080/"
        },
        "id": "eSldam4bdf8f",
        "outputId": "6785fe7b-b9d3-4de5-cadf-fba9803d3bb9"
      },
      "execution_count": 19,
      "outputs": [
        {
          "output_type": "stream",
          "name": "stdout",
          "text": [
            "Toyota\n",
            "Toyota car started!\n"
          ]
        }
      ]
    },
    {
      "cell_type": "code",
      "source": [
        "#4. Class Variables and Class Methods\n",
        "class Bank:\n",
        "    bank_name = \"Old Bank\"\n",
        "\n",
        "    @classmethod\n",
        "    def change_bank_name(cls, name):\n",
        "        cls.bank_name = name\n",
        "\n",
        "# Test\n",
        "b1 = Bank()\n",
        "b2 = Bank()\n",
        "print(b1.bank_name)\n",
        "Bank.change_bank_name(\"New Bank\")\n",
        "print(b2.bank_name)\n"
      ],
      "metadata": {
        "colab": {
          "base_uri": "https://localhost:8080/"
        },
        "id": "wfKwQsvUdqGY",
        "outputId": "4fbd2656-ba6e-4c46-fde4-8d4799acca51"
      },
      "execution_count": 20,
      "outputs": [
        {
          "output_type": "stream",
          "name": "stdout",
          "text": [
            "Old Bank\n",
            "New Bank\n"
          ]
        }
      ]
    },
    {
      "cell_type": "code",
      "source": [
        "#5. Static Variables and Static Methods\n",
        "class MathUtils:\n",
        "    @staticmethod\n",
        "    def add(a, b):\n",
        "        return a + b\n",
        "\n",
        "# Test\n",
        "print(MathUtils.add(5, 7))\n"
      ],
      "metadata": {
        "colab": {
          "base_uri": "https://localhost:8080/"
        },
        "id": "z-c888SldygT",
        "outputId": "af2427ca-8427-4d73-8680-7e5b3f938fdc"
      },
      "execution_count": 21,
      "outputs": [
        {
          "output_type": "stream",
          "name": "stdout",
          "text": [
            "12\n"
          ]
        }
      ]
    },
    {
      "cell_type": "code",
      "source": [
        "#6. Constructors and Destructors\n",
        "class Logger:\n",
        "    def __init__(self):\n",
        "        print(\"Logger started.\")\n",
        "\n",
        "    def __del__(self):\n",
        "        print(\"Logger ended.\")\n",
        "\n",
        "# Test\n",
        "log = Logger()\n",
        "del log\n"
      ],
      "metadata": {
        "colab": {
          "base_uri": "https://localhost:8080/"
        },
        "id": "tIi88GTNd47x",
        "outputId": "15fafa22-f10d-4a5b-a32f-2be2f5b35982"
      },
      "execution_count": 22,
      "outputs": [
        {
          "output_type": "stream",
          "name": "stdout",
          "text": [
            "Logger started.\n",
            "Logger ended.\n"
          ]
        }
      ]
    },
    {
      "cell_type": "code",
      "source": [
        "#7. Access Modifiers\n",
        "class Employee:\n",
        "    def __init__(self, name, salary, ssn):\n",
        "        self.name = name         # Public\n",
        "        self._salary = salary    # Protected\n",
        "        self.__ssn = ssn          # Private\n",
        "\n",
        "# Test\n",
        "emp = Employee(\"Saud\", 50000, \"123-45-6789\")\n",
        "print(emp.name)       # OK\n",
        "print(emp._salary)    # Should be accessed carefully\n",
        "# print(emp.__ssn)    # Error: Private\n",
        "print(emp._Employee__ssn)  # Name Mangling (Accessing private)\n"
      ],
      "metadata": {
        "colab": {
          "base_uri": "https://localhost:8080/"
        },
        "id": "Wxu2XVXKeDiM",
        "outputId": "2602f72b-3556-4621-ea49-38fa458ccd37"
      },
      "execution_count": 23,
      "outputs": [
        {
          "output_type": "stream",
          "name": "stdout",
          "text": [
            "Saud\n",
            "50000\n",
            "123-45-6789\n"
          ]
        }
      ]
    },
    {
      "cell_type": "code",
      "source": [
        "#8. The super() Function\n",
        "class Person:\n",
        "    def __init__(self, name):\n",
        "        self.name = name\n",
        "\n",
        "class Teacher(Person):\n",
        "    def __init__(self, name, subject):\n",
        "        super().__init__(name)\n",
        "        self.subject = subject\n",
        "\n",
        "# Test\n",
        "t = Teacher(\"Saud\", \"Physics\")\n",
        "print(t.name, t.subject)\n"
      ],
      "metadata": {
        "colab": {
          "base_uri": "https://localhost:8080/"
        },
        "id": "p_A1thgUeK60",
        "outputId": "23b5dfc9-e46a-4149-8c07-c396f948459c"
      },
      "execution_count": 24,
      "outputs": [
        {
          "output_type": "stream",
          "name": "stdout",
          "text": [
            "Saud Physics\n"
          ]
        }
      ]
    },
    {
      "cell_type": "code",
      "source": [
        "#9. Abstract Classes and Methods\n",
        "from abc import ABC, abstractmethod\n",
        "\n",
        "class Shape(ABC):\n",
        "    @abstractmethod\n",
        "    def area(self):\n",
        "        pass\n",
        "\n",
        "class Rectangle(Shape):\n",
        "    def __init__(self, width, height):\n",
        "        self.width = width\n",
        "        self.height = height\n",
        "\n",
        "    def area(self):\n",
        "        return self.width * self.height\n",
        "\n",
        "# Test\n",
        "r = Rectangle(5, 10)\n",
        "print(r.area())\n"
      ],
      "metadata": {
        "colab": {
          "base_uri": "https://localhost:8080/"
        },
        "id": "wG4eGIp5eRH1",
        "outputId": "d341db4a-7d17-4f73-8813-dcecf4c56940"
      },
      "execution_count": 25,
      "outputs": [
        {
          "output_type": "stream",
          "name": "stdout",
          "text": [
            "50\n"
          ]
        }
      ]
    },
    {
      "cell_type": "code",
      "source": [
        "#10. Instance Methods\n",
        "class Dog:\n",
        "    def __init__(self, name, breed):\n",
        "        self.name = name\n",
        "        self.breed = breed\n",
        "\n",
        "    def bark(self):\n",
        "        print(f\"{self.name} is barking!\")\n",
        "\n",
        "# Test\n",
        "dog = Dog(\"Buddy\", \"Labrador\")\n",
        "dog.bark()\n"
      ],
      "metadata": {
        "colab": {
          "base_uri": "https://localhost:8080/"
        },
        "id": "29CKUjkfeVt1",
        "outputId": "69954b9c-54df-471c-ce1f-a7d816431d7d"
      },
      "execution_count": 26,
      "outputs": [
        {
          "output_type": "stream",
          "name": "stdout",
          "text": [
            "Buddy is barking!\n"
          ]
        }
      ]
    },
    {
      "cell_type": "code",
      "source": [
        "#11. Class Methods\n",
        "class Book:\n",
        "    total_books = 0\n",
        "\n",
        "    @classmethod\n",
        "    def increment_book_count(cls):\n",
        "        cls.total_books += 1\n",
        "\n",
        "# Test\n",
        "Book.increment_book_count()\n",
        "Book.increment_book_count()\n",
        "print(Book.total_books)\n"
      ],
      "metadata": {
        "colab": {
          "base_uri": "https://localhost:8080/"
        },
        "id": "vVRvSf-LecNP",
        "outputId": "88a9f1ea-ec4b-46da-f1f9-7bec55fdd3e9"
      },
      "execution_count": 27,
      "outputs": [
        {
          "output_type": "stream",
          "name": "stdout",
          "text": [
            "2\n"
          ]
        }
      ]
    },
    {
      "cell_type": "code",
      "source": [
        "#12. Static Methods\n",
        "class TemperatureConverter:\n",
        "    @staticmethod\n",
        "    def celsius_to_fahrenheit(c):\n",
        "        return (c * 9/5) + 32\n",
        "\n",
        "# Test\n",
        "print(TemperatureConverter.celsius_to_fahrenheit(25))\n"
      ],
      "metadata": {
        "colab": {
          "base_uri": "https://localhost:8080/"
        },
        "id": "LrwwTT7OeiV0",
        "outputId": "fdd4e9fb-6d8c-40ad-ca26-6ecff40c5698"
      },
      "execution_count": 28,
      "outputs": [
        {
          "output_type": "stream",
          "name": "stdout",
          "text": [
            "77.0\n"
          ]
        }
      ]
    },
    {
      "cell_type": "code",
      "source": [
        "#13. Composition\n",
        "class Engine:\n",
        "    def start(self):\n",
        "        print(\"Engine started.\")\n",
        "\n",
        "class Car:\n",
        "    def __init__(self, engine):\n",
        "        self.engine = engine\n",
        "\n",
        "    def start_car(self):\n",
        "        self.engine.start()\n",
        "\n",
        "# Test\n",
        "engine = Engine()\n",
        "car = Car(engine)\n",
        "car.start_car()\n"
      ],
      "metadata": {
        "colab": {
          "base_uri": "https://localhost:8080/"
        },
        "id": "DkKurLumeoRS",
        "outputId": "6e9feda3-3e8a-4d4e-dd2c-31d6c96b7a1f"
      },
      "execution_count": 29,
      "outputs": [
        {
          "output_type": "stream",
          "name": "stdout",
          "text": [
            "Engine started.\n"
          ]
        }
      ]
    },
    {
      "cell_type": "code",
      "source": [
        "#14. Aggregation\n",
        "class Employee:\n",
        "    def __init__(self, name):\n",
        "        self.name = name\n",
        "\n",
        "class Department:\n",
        "    def __init__(self, employee):\n",
        "        self.employee = employee\n",
        "\n",
        "# Test\n",
        "emp = Employee(\"Saud\")\n",
        "dept = Department(emp)\n",
        "print(dept.employee.name)\n"
      ],
      "metadata": {
        "colab": {
          "base_uri": "https://localhost:8080/"
        },
        "id": "gBpsTB5Ke4Nu",
        "outputId": "2a49fefb-562b-4920-d17a-582a31265114"
      },
      "execution_count": 30,
      "outputs": [
        {
          "output_type": "stream",
          "name": "stdout",
          "text": [
            "Saud\n"
          ]
        }
      ]
    },
    {
      "cell_type": "code",
      "source": [
        "#15. MRO and Diamond Inheritance\n",
        "class A:\n",
        "    def show(self):\n",
        "        print(\"A's show\")\n",
        "\n",
        "class B(A):\n",
        "    def show(self):\n",
        "        print(\"B's show\")\n",
        "\n",
        "class C(A):\n",
        "    def show(self):\n",
        "        print(\"C's show\")\n",
        "\n",
        "class D(B, C):\n",
        "    pass\n",
        "\n",
        "# Test\n",
        "d = D()\n",
        "d.show()  # MRO: D -> B -> C -> A\n"
      ],
      "metadata": {
        "colab": {
          "base_uri": "https://localhost:8080/"
        },
        "id": "0fI9wsdcfAvS",
        "outputId": "831566b0-8cf3-433d-e5cd-7cafada534ee"
      },
      "execution_count": 31,
      "outputs": [
        {
          "output_type": "stream",
          "name": "stdout",
          "text": [
            "B's show\n"
          ]
        }
      ]
    },
    {
      "cell_type": "code",
      "source": [
        "#16. Function Decorators\n",
        "def log_function_call(func):\n",
        "    def wrapper():\n",
        "        print(\"Function is being called\")\n",
        "        func()\n",
        "    return wrapper\n",
        "\n",
        "@log_function_call\n",
        "def say_hello():\n",
        "    print(\"Hello!\")\n",
        "\n",
        "# Test\n",
        "say_hello()\n"
      ],
      "metadata": {
        "colab": {
          "base_uri": "https://localhost:8080/"
        },
        "id": "1DJTF2XrfG6a",
        "outputId": "91f3c8ca-45e7-4b6a-b453-49cbc5f3fc88"
      },
      "execution_count": 32,
      "outputs": [
        {
          "output_type": "stream",
          "name": "stdout",
          "text": [
            "Function is being called\n",
            "Hello!\n"
          ]
        }
      ]
    },
    {
      "cell_type": "code",
      "source": [
        "#17. Class Decorators\n",
        "def add_greeting(cls):\n",
        "    cls.greet = lambda self: \"Hello from Decorator!\"\n",
        "    return cls\n",
        "\n",
        "@add_greeting\n",
        "class Person:\n",
        "    pass\n",
        "\n",
        "# Test\n",
        "p = Person()\n",
        "print(p.greet())\n"
      ],
      "metadata": {
        "colab": {
          "base_uri": "https://localhost:8080/"
        },
        "id": "d-fOJkB3fM2F",
        "outputId": "caed6162-9b8a-4ffb-ffcc-252868c67ae1"
      },
      "execution_count": 33,
      "outputs": [
        {
          "output_type": "stream",
          "name": "stdout",
          "text": [
            "Hello from Decorator!\n"
          ]
        }
      ]
    },
    {
      "cell_type": "code",
      "source": [
        "#18. Property Decorators\n",
        "class Product:\n",
        "    def __init__(self, price):\n",
        "        self._price = price\n",
        "\n",
        "    @property\n",
        "    def price(self):\n",
        "        return self._price\n",
        "\n",
        "    @price.setter\n",
        "    def price(self, value):\n",
        "        if value >= 0:\n",
        "            self._price = value\n",
        "        else:\n",
        "            raise ValueError(\"Price cannot be negative.\")\n",
        "\n",
        "    @price.deleter\n",
        "    def price(self):\n",
        "        del self._price\n",
        "\n",
        "# Test\n",
        "p = Product(100)\n",
        "print(p.price)\n",
        "p.price = 200\n",
        "print(p.price)\n",
        "del p.price\n"
      ],
      "metadata": {
        "colab": {
          "base_uri": "https://localhost:8080/"
        },
        "id": "vpFH9FdifS5T",
        "outputId": "a774bf01-8973-4a50-d1de-0ec9f87294ce"
      },
      "execution_count": 34,
      "outputs": [
        {
          "output_type": "stream",
          "name": "stdout",
          "text": [
            "100\n",
            "200\n"
          ]
        }
      ]
    },
    {
      "cell_type": "code",
      "source": [
        "#19. callable() and __call__()\n",
        "class Multiplier:\n",
        "    def __init__(self, factor):\n",
        "        self.factor = factor\n",
        "\n",
        "    def __call__(self, number):\n",
        "        return self.factor * number\n",
        "\n",
        "# Test\n",
        "m = Multiplier(5)\n",
        "print(callable(m))\n",
        "print(m(10))\n"
      ],
      "metadata": {
        "colab": {
          "base_uri": "https://localhost:8080/"
        },
        "id": "vbLoSlEsfaiD",
        "outputId": "ab226967-8408-4980-ba73-0d4d9befa384"
      },
      "execution_count": 35,
      "outputs": [
        {
          "output_type": "stream",
          "name": "stdout",
          "text": [
            "True\n",
            "50\n"
          ]
        }
      ]
    },
    {
      "cell_type": "code",
      "source": [
        "#20. Custom Exception\n",
        "class InvalidAgeError(Exception):\n",
        "    pass\n",
        "\n",
        "def check_age(age):\n",
        "    if age < 18:\n",
        "        raise InvalidAgeError(\"Age must be at least 18.\")\n",
        "    else:\n",
        "        print(\"Valid age.\")\n",
        "\n",
        "# Test\n",
        "try:\n",
        "    check_age(16)\n",
        "except InvalidAgeError as e:\n",
        "    print(e)\n"
      ],
      "metadata": {
        "colab": {
          "base_uri": "https://localhost:8080/"
        },
        "id": "D9ZlL_lvfgBb",
        "outputId": "648a1b68-e4b0-42f7-b062-a42dbe793ab5"
      },
      "execution_count": 36,
      "outputs": [
        {
          "output_type": "stream",
          "name": "stdout",
          "text": [
            "Age must be at least 18.\n"
          ]
        }
      ]
    },
    {
      "cell_type": "code",
      "source": [
        "#21. Make a Custom Class Iterable\n",
        "class Countdown:\n",
        "    def __init__(self, start):\n",
        "        self.current = start\n",
        "\n",
        "    def __iter__(self):\n",
        "        return self\n",
        "\n",
        "    def __next__(self):\n",
        "        if self.current < 0:\n",
        "            raise StopIteration\n",
        "        else:\n",
        "            num = self.current\n",
        "            self.current -= 1\n",
        "            return num\n",
        "\n",
        "# Test\n",
        "for num in Countdown(5):\n",
        "    print(num)\n"
      ],
      "metadata": {
        "colab": {
          "base_uri": "https://localhost:8080/"
        },
        "id": "IzmX9szffrMJ",
        "outputId": "ed739802-955b-41f7-97c0-a6854242bd01"
      },
      "execution_count": 37,
      "outputs": [
        {
          "output_type": "stream",
          "name": "stdout",
          "text": [
            "5\n",
            "4\n",
            "3\n",
            "2\n",
            "1\n",
            "0\n"
          ]
        }
      ]
    }
  ]
}